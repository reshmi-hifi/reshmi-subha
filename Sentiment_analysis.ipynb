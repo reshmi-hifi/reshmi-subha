{
  "nbformat": 4,
  "nbformat_minor": 0,
  "metadata": {
    "colab": {
      "provenance": [],
      "authorship_tag": "ABX9TyP2H55KjGBbtgErZI8/KwWc",
      "include_colab_link": true
    },
    "kernelspec": {
      "name": "python3",
      "display_name": "Python 3"
    },
    "language_info": {
      "name": "python"
    }
  },
  "cells": [
    {
      "cell_type": "markdown",
      "metadata": {
        "id": "view-in-github",
        "colab_type": "text"
      },
      "source": [
        "<a href=\"https://colab.research.google.com/github/reshmi-hifi/reshmi-subha/blob/main/aiml_project_sentiment_analysis_4.ipynb\" target=\"_parent\"><img src=\"https://colab.research.google.com/assets/colab-badge.svg\" alt=\"Open In Colab\"/></a>"
      ]
    },
    {
      "cell_type": "code",
      "execution_count": 123,
      "metadata": {
        "id": "shAd_io0dru-"
      },
      "outputs": [],
      "source": [
        "import pandas as pd"
      ]
    },
    {
      "cell_type": "code",
      "source": [
        " import matplotlib.pyplot as plt\n",
        " import seaborn as sns"
      ],
      "metadata": {
        "id": "hoviXvYod_Gw"
      },
      "execution_count": 124,
      "outputs": []
    },
    {
      "cell_type": "code",
      "source": [
        " import warnings\n",
        " warnings.filterwarnings('ignore')"
      ],
      "metadata": {
        "id": "_TMdvR_weBb9"
      },
      "execution_count": 125,
      "outputs": []
    },
    {
      "cell_type": "code",
      "source": [
        " df=pd.read_csv('/content/barbie_Cleaned.csv')"
      ],
      "metadata": {
        "id": "ehoOxxHweEX5"
      },
      "execution_count": 126,
      "outputs": []
    },
    {
      "cell_type": "code",
      "source": [
        "print(df)"
      ],
      "metadata": {
        "colab": {
          "base_uri": "https://localhost:8080/"
        },
        "id": "Tp2le73NeHCu",
        "outputId": "3512dda2-9dca-4bcf-ea9a-f09d25171f84"
      },
      "execution_count": 127,
      "outputs": [
        {
          "output_type": "stream",
          "name": "stdout",
          "text": [
            "                                                  text rating  people\n",
            "0    Beautiful film, but so preachyLoveofLegacy21 J...      6     1.0\n",
            "1    Clever and fun beginning turns into another le...      6     2.0\n",
            "2    It was depressingcoxaneesa24 July 2023Warning:...      8     3.0\n",
            "3    A Technicolor Dreamheatherhilgers24 July 2023W...      9     4.0\n",
            "4     reasons FOR seeing it and 1 reason AGAINST.im...      7     6.0\n",
            "..                                                 ...    ...     ...\n",
            "792  Barbie-not goodthongman22 July 2023The only re...      2     NaN\n",
            "793  Feminism but the rest?iyaseminkose23 July 2023...      5     NaN\n",
            "794  Great sets, great execution but horrible story...      3     NaN\n",
            "795  Just meh.apriljosey-2903427 July 2023Warning: ...      2     NaN\n",
            "796  Not for little kids and wastes your time.ben-3...      1     NaN\n",
            "\n",
            "[797 rows x 3 columns]\n"
          ]
        }
      ]
    },
    {
      "cell_type": "code",
      "source": [
        "df.shape"
      ],
      "metadata": {
        "colab": {
          "base_uri": "https://localhost:8080/"
        },
        "id": "WYty1BD7eJJh",
        "outputId": "c9c69dff-79ca-4520-8a00-74ea20f29a32"
      },
      "execution_count": 128,
      "outputs": [
        {
          "output_type": "execute_result",
          "data": {
            "text/plain": [
              "(797, 3)"
            ]
          },
          "metadata": {},
          "execution_count": 128
        }
      ]
    },
    {
      "cell_type": "code",
      "source": [
        "df.columns"
      ],
      "metadata": {
        "colab": {
          "base_uri": "https://localhost:8080/"
        },
        "id": "gFOEGfdOea7J",
        "outputId": "98978183-837c-4d22-8ce8-1390812d4930"
      },
      "execution_count": 129,
      "outputs": [
        {
          "output_type": "execute_result",
          "data": {
            "text/plain": [
              "Index(['text', 'rating', 'people'], dtype='object')"
            ]
          },
          "metadata": {},
          "execution_count": 129
        }
      ]
    },
    {
      "cell_type": "code",
      "source": [
        "df.duplicated().sum()"
      ],
      "metadata": {
        "colab": {
          "base_uri": "https://localhost:8080/"
        },
        "id": "fa_osjehec84",
        "outputId": "0b843d25-5caa-484f-91fa-c4328f729eb0"
      },
      "execution_count": 130,
      "outputs": [
        {
          "output_type": "execute_result",
          "data": {
            "text/plain": [
              "0"
            ]
          },
          "metadata": {},
          "execution_count": 130
        }
      ]
    },
    {
      "cell_type": "code",
      "source": [
        "df.duplicated()"
      ],
      "metadata": {
        "colab": {
          "base_uri": "https://localhost:8080/"
        },
        "id": "pojjO502egF4",
        "outputId": "ab35901e-a944-4265-c32d-206a38858ca9"
      },
      "execution_count": 131,
      "outputs": [
        {
          "output_type": "execute_result",
          "data": {
            "text/plain": [
              "0      False\n",
              "1      False\n",
              "2      False\n",
              "3      False\n",
              "4      False\n",
              "       ...  \n",
              "792    False\n",
              "793    False\n",
              "794    False\n",
              "795    False\n",
              "796    False\n",
              "Length: 797, dtype: bool"
            ]
          },
          "metadata": {},
          "execution_count": 131
        }
      ]
    },
    {
      "cell_type": "code",
      "source": [
        "df=df.drop_duplicates()"
      ],
      "metadata": {
        "id": "0wpDrX-IejB3"
      },
      "execution_count": 132,
      "outputs": []
    },
    {
      "cell_type": "code",
      "source": [
        " df.isnull().sum()"
      ],
      "metadata": {
        "colab": {
          "base_uri": "https://localhost:8080/"
        },
        "id": "JhyvICyZeohj",
        "outputId": "87b9dfdc-3621-4d55-805f-7a3ca4354eb1"
      },
      "execution_count": 133,
      "outputs": [
        {
          "output_type": "execute_result",
          "data": {
            "text/plain": [
              "text        0\n",
              "rating      0\n",
              "people    779\n",
              "dtype: int64"
            ]
          },
          "metadata": {},
          "execution_count": 133
        }
      ]
    },
    {
      "cell_type": "code",
      "source": [],
      "metadata": {
        "id": "a6FzE0yxerRz"
      },
      "execution_count": 133,
      "outputs": []
    },
    {
      "cell_type": "code",
      "source": [
        "print(df)"
      ],
      "metadata": {
        "colab": {
          "base_uri": "https://localhost:8080/"
        },
        "id": "CAKkQWJVevlM",
        "outputId": "33e91d08-b30e-466c-9270-0637149bd913"
      },
      "execution_count": 134,
      "outputs": [
        {
          "output_type": "stream",
          "name": "stdout",
          "text": [
            "                                                  text rating  people\n",
            "0    Beautiful film, but so preachyLoveofLegacy21 J...      6     1.0\n",
            "1    Clever and fun beginning turns into another le...      6     2.0\n",
            "2    It was depressingcoxaneesa24 July 2023Warning:...      8     3.0\n",
            "3    A Technicolor Dreamheatherhilgers24 July 2023W...      9     4.0\n",
            "4     reasons FOR seeing it and 1 reason AGAINST.im...      7     6.0\n",
            "..                                                 ...    ...     ...\n",
            "792  Barbie-not goodthongman22 July 2023The only re...      2     NaN\n",
            "793  Feminism but the rest?iyaseminkose23 July 2023...      5     NaN\n",
            "794  Great sets, great execution but horrible story...      3     NaN\n",
            "795  Just meh.apriljosey-2903427 July 2023Warning: ...      2     NaN\n",
            "796  Not for little kids and wastes your time.ben-3...      1     NaN\n",
            "\n",
            "[797 rows x 3 columns]\n"
          ]
        }
      ]
    },
    {
      "cell_type": "code",
      "source": [
        "df.info()"
      ],
      "metadata": {
        "colab": {
          "base_uri": "https://localhost:8080/"
        },
        "id": "8V48gwcpexiD",
        "outputId": "1d48fffe-bd16-4638-9952-0b129c8a8498"
      },
      "execution_count": 135,
      "outputs": [
        {
          "output_type": "stream",
          "name": "stdout",
          "text": [
            "<class 'pandas.core.frame.DataFrame'>\n",
            "RangeIndex: 797 entries, 0 to 796\n",
            "Data columns (total 3 columns):\n",
            " #   Column  Non-Null Count  Dtype  \n",
            "---  ------  --------------  -----  \n",
            " 0   text    797 non-null    object \n",
            " 1   rating  797 non-null    object \n",
            " 2   people  18 non-null     float64\n",
            "dtypes: float64(1), object(2)\n",
            "memory usage: 18.8+ KB\n"
          ]
        }
      ]
    },
    {
      "cell_type": "code",
      "source": [
        "df.describe()"
      ],
      "metadata": {
        "colab": {
          "base_uri": "https://localhost:8080/",
          "height": 300
        },
        "id": "u30-O0G2ezb4",
        "outputId": "1d7b622d-c052-465e-fd01-7067d7608726"
      },
      "execution_count": 136,
      "outputs": [
        {
          "output_type": "execute_result",
          "data": {
            "text/plain": [
              "          people\n",
              "count  18.000000\n",
              "mean    5.000000\n",
              "std     2.656845\n",
              "min     1.000000\n",
              "25%     3.000000\n",
              "50%     5.000000\n",
              "75%     7.000000\n",
              "max     9.000000"
            ],
            "text/html": [
              "\n",
              "  <div id=\"df-1de31f8f-48ec-4c10-a198-8c1c59fc81e5\" class=\"colab-df-container\">\n",
              "    <div>\n",
              "<style scoped>\n",
              "    .dataframe tbody tr th:only-of-type {\n",
              "        vertical-align: middle;\n",
              "    }\n",
              "\n",
              "    .dataframe tbody tr th {\n",
              "        vertical-align: top;\n",
              "    }\n",
              "\n",
              "    .dataframe thead th {\n",
              "        text-align: right;\n",
              "    }\n",
              "</style>\n",
              "<table border=\"1\" class=\"dataframe\">\n",
              "  <thead>\n",
              "    <tr style=\"text-align: right;\">\n",
              "      <th></th>\n",
              "      <th>people</th>\n",
              "    </tr>\n",
              "  </thead>\n",
              "  <tbody>\n",
              "    <tr>\n",
              "      <th>count</th>\n",
              "      <td>18.000000</td>\n",
              "    </tr>\n",
              "    <tr>\n",
              "      <th>mean</th>\n",
              "      <td>5.000000</td>\n",
              "    </tr>\n",
              "    <tr>\n",
              "      <th>std</th>\n",
              "      <td>2.656845</td>\n",
              "    </tr>\n",
              "    <tr>\n",
              "      <th>min</th>\n",
              "      <td>1.000000</td>\n",
              "    </tr>\n",
              "    <tr>\n",
              "      <th>25%</th>\n",
              "      <td>3.000000</td>\n",
              "    </tr>\n",
              "    <tr>\n",
              "      <th>50%</th>\n",
              "      <td>5.000000</td>\n",
              "    </tr>\n",
              "    <tr>\n",
              "      <th>75%</th>\n",
              "      <td>7.000000</td>\n",
              "    </tr>\n",
              "    <tr>\n",
              "      <th>max</th>\n",
              "      <td>9.000000</td>\n",
              "    </tr>\n",
              "  </tbody>\n",
              "</table>\n",
              "</div>\n",
              "    <div class=\"colab-df-buttons\">\n",
              "\n",
              "  <div class=\"colab-df-container\">\n",
              "    <button class=\"colab-df-convert\" onclick=\"convertToInteractive('df-1de31f8f-48ec-4c10-a198-8c1c59fc81e5')\"\n",
              "            title=\"Convert this dataframe to an interactive table.\"\n",
              "            style=\"display:none;\">\n",
              "\n",
              "  <svg xmlns=\"http://www.w3.org/2000/svg\" height=\"24px\" viewBox=\"0 -960 960 960\">\n",
              "    <path d=\"M120-120v-720h720v720H120Zm60-500h600v-160H180v160Zm220 220h160v-160H400v160Zm0 220h160v-160H400v160ZM180-400h160v-160H180v160Zm440 0h160v-160H620v160ZM180-180h160v-160H180v160Zm440 0h160v-160H620v160Z\"/>\n",
              "  </svg>\n",
              "    </button>\n",
              "\n",
              "  <style>\n",
              "    .colab-df-container {\n",
              "      display:flex;\n",
              "      gap: 12px;\n",
              "    }\n",
              "\n",
              "    .colab-df-convert {\n",
              "      background-color: #E8F0FE;\n",
              "      border: none;\n",
              "      border-radius: 50%;\n",
              "      cursor: pointer;\n",
              "      display: none;\n",
              "      fill: #1967D2;\n",
              "      height: 32px;\n",
              "      padding: 0 0 0 0;\n",
              "      width: 32px;\n",
              "    }\n",
              "\n",
              "    .colab-df-convert:hover {\n",
              "      background-color: #E2EBFA;\n",
              "      box-shadow: 0px 1px 2px rgba(60, 64, 67, 0.3), 0px 1px 3px 1px rgba(60, 64, 67, 0.15);\n",
              "      fill: #174EA6;\n",
              "    }\n",
              "\n",
              "    .colab-df-buttons div {\n",
              "      margin-bottom: 4px;\n",
              "    }\n",
              "\n",
              "    [theme=dark] .colab-df-convert {\n",
              "      background-color: #3B4455;\n",
              "      fill: #D2E3FC;\n",
              "    }\n",
              "\n",
              "    [theme=dark] .colab-df-convert:hover {\n",
              "      background-color: #434B5C;\n",
              "      box-shadow: 0px 1px 3px 1px rgba(0, 0, 0, 0.15);\n",
              "      filter: drop-shadow(0px 1px 2px rgba(0, 0, 0, 0.3));\n",
              "      fill: #FFFFFF;\n",
              "    }\n",
              "  </style>\n",
              "\n",
              "    <script>\n",
              "      const buttonEl =\n",
              "        document.querySelector('#df-1de31f8f-48ec-4c10-a198-8c1c59fc81e5 button.colab-df-convert');\n",
              "      buttonEl.style.display =\n",
              "        google.colab.kernel.accessAllowed ? 'block' : 'none';\n",
              "\n",
              "      async function convertToInteractive(key) {\n",
              "        const element = document.querySelector('#df-1de31f8f-48ec-4c10-a198-8c1c59fc81e5');\n",
              "        const dataTable =\n",
              "          await google.colab.kernel.invokeFunction('convertToInteractive',\n",
              "                                                    [key], {});\n",
              "        if (!dataTable) return;\n",
              "\n",
              "        const docLinkHtml = 'Like what you see? Visit the ' +\n",
              "          '<a target=\"_blank\" href=https://colab.research.google.com/notebooks/data_table.ipynb>data table notebook</a>'\n",
              "          + ' to learn more about interactive tables.';\n",
              "        element.innerHTML = '';\n",
              "        dataTable['output_type'] = 'display_data';\n",
              "        await google.colab.output.renderOutput(dataTable, element);\n",
              "        const docLink = document.createElement('div');\n",
              "        docLink.innerHTML = docLinkHtml;\n",
              "        element.appendChild(docLink);\n",
              "      }\n",
              "    </script>\n",
              "  </div>\n",
              "\n",
              "\n",
              "<div id=\"df-d65e5c78-c8a1-4659-b4a3-190d4d5fcf4a\">\n",
              "  <button class=\"colab-df-quickchart\" onclick=\"quickchart('df-d65e5c78-c8a1-4659-b4a3-190d4d5fcf4a')\"\n",
              "            title=\"Suggest charts\"\n",
              "            style=\"display:none;\">\n",
              "\n",
              "<svg xmlns=\"http://www.w3.org/2000/svg\" height=\"24px\"viewBox=\"0 0 24 24\"\n",
              "     width=\"24px\">\n",
              "    <g>\n",
              "        <path d=\"M19 3H5c-1.1 0-2 .9-2 2v14c0 1.1.9 2 2 2h14c1.1 0 2-.9 2-2V5c0-1.1-.9-2-2-2zM9 17H7v-7h2v7zm4 0h-2V7h2v10zm4 0h-2v-4h2v4z\"/>\n",
              "    </g>\n",
              "</svg>\n",
              "  </button>\n",
              "\n",
              "<style>\n",
              "  .colab-df-quickchart {\n",
              "      --bg-color: #E8F0FE;\n",
              "      --fill-color: #1967D2;\n",
              "      --hover-bg-color: #E2EBFA;\n",
              "      --hover-fill-color: #174EA6;\n",
              "      --disabled-fill-color: #AAA;\n",
              "      --disabled-bg-color: #DDD;\n",
              "  }\n",
              "\n",
              "  [theme=dark] .colab-df-quickchart {\n",
              "      --bg-color: #3B4455;\n",
              "      --fill-color: #D2E3FC;\n",
              "      --hover-bg-color: #434B5C;\n",
              "      --hover-fill-color: #FFFFFF;\n",
              "      --disabled-bg-color: #3B4455;\n",
              "      --disabled-fill-color: #666;\n",
              "  }\n",
              "\n",
              "  .colab-df-quickchart {\n",
              "    background-color: var(--bg-color);\n",
              "    border: none;\n",
              "    border-radius: 50%;\n",
              "    cursor: pointer;\n",
              "    display: none;\n",
              "    fill: var(--fill-color);\n",
              "    height: 32px;\n",
              "    padding: 0;\n",
              "    width: 32px;\n",
              "  }\n",
              "\n",
              "  .colab-df-quickchart:hover {\n",
              "    background-color: var(--hover-bg-color);\n",
              "    box-shadow: 0 1px 2px rgba(60, 64, 67, 0.3), 0 1px 3px 1px rgba(60, 64, 67, 0.15);\n",
              "    fill: var(--button-hover-fill-color);\n",
              "  }\n",
              "\n",
              "  .colab-df-quickchart-complete:disabled,\n",
              "  .colab-df-quickchart-complete:disabled:hover {\n",
              "    background-color: var(--disabled-bg-color);\n",
              "    fill: var(--disabled-fill-color);\n",
              "    box-shadow: none;\n",
              "  }\n",
              "\n",
              "  .colab-df-spinner {\n",
              "    border: 2px solid var(--fill-color);\n",
              "    border-color: transparent;\n",
              "    border-bottom-color: var(--fill-color);\n",
              "    animation:\n",
              "      spin 1s steps(1) infinite;\n",
              "  }\n",
              "\n",
              "  @keyframes spin {\n",
              "    0% {\n",
              "      border-color: transparent;\n",
              "      border-bottom-color: var(--fill-color);\n",
              "      border-left-color: var(--fill-color);\n",
              "    }\n",
              "    20% {\n",
              "      border-color: transparent;\n",
              "      border-left-color: var(--fill-color);\n",
              "      border-top-color: var(--fill-color);\n",
              "    }\n",
              "    30% {\n",
              "      border-color: transparent;\n",
              "      border-left-color: var(--fill-color);\n",
              "      border-top-color: var(--fill-color);\n",
              "      border-right-color: var(--fill-color);\n",
              "    }\n",
              "    40% {\n",
              "      border-color: transparent;\n",
              "      border-right-color: var(--fill-color);\n",
              "      border-top-color: var(--fill-color);\n",
              "    }\n",
              "    60% {\n",
              "      border-color: transparent;\n",
              "      border-right-color: var(--fill-color);\n",
              "    }\n",
              "    80% {\n",
              "      border-color: transparent;\n",
              "      border-right-color: var(--fill-color);\n",
              "      border-bottom-color: var(--fill-color);\n",
              "    }\n",
              "    90% {\n",
              "      border-color: transparent;\n",
              "      border-bottom-color: var(--fill-color);\n",
              "    }\n",
              "  }\n",
              "</style>\n",
              "\n",
              "  <script>\n",
              "    async function quickchart(key) {\n",
              "      const quickchartButtonEl =\n",
              "        document.querySelector('#' + key + ' button');\n",
              "      quickchartButtonEl.disabled = true;  // To prevent multiple clicks.\n",
              "      quickchartButtonEl.classList.add('colab-df-spinner');\n",
              "      try {\n",
              "        const charts = await google.colab.kernel.invokeFunction(\n",
              "            'suggestCharts', [key], {});\n",
              "      } catch (error) {\n",
              "        console.error('Error during call to suggestCharts:', error);\n",
              "      }\n",
              "      quickchartButtonEl.classList.remove('colab-df-spinner');\n",
              "      quickchartButtonEl.classList.add('colab-df-quickchart-complete');\n",
              "    }\n",
              "    (() => {\n",
              "      let quickchartButtonEl =\n",
              "        document.querySelector('#df-d65e5c78-c8a1-4659-b4a3-190d4d5fcf4a button');\n",
              "      quickchartButtonEl.style.display =\n",
              "        google.colab.kernel.accessAllowed ? 'block' : 'none';\n",
              "    })();\n",
              "  </script>\n",
              "</div>\n",
              "\n",
              "    </div>\n",
              "  </div>\n"
            ],
            "application/vnd.google.colaboratory.intrinsic+json": {
              "type": "dataframe",
              "summary": "{\n  \"name\": \"df\",\n  \"rows\": 8,\n  \"fields\": [\n    {\n      \"column\": \"people\",\n      \"properties\": {\n        \"dtype\": \"number\",\n        \"std\": 5.349156605201447,\n        \"min\": 1.0,\n        \"max\": 18.0,\n        \"num_unique_values\": 7,\n        \"samples\": [\n          18.0,\n          5.0,\n          7.0\n        ],\n        \"semantic_type\": \"\",\n        \"description\": \"\"\n      }\n    }\n  ]\n}"
            }
          },
          "metadata": {},
          "execution_count": 136
        }
      ]
    },
    {
      "cell_type": "code",
      "source": [
        "df.nunique()"
      ],
      "metadata": {
        "colab": {
          "base_uri": "https://localhost:8080/"
        },
        "id": "rfh2cUZ3e2-3",
        "outputId": "3e54e146-8ff8-4cce-99bb-29a3f2d15a07"
      },
      "execution_count": 137,
      "outputs": [
        {
          "output_type": "execute_result",
          "data": {
            "text/plain": [
              "text      797\n",
              "rating     16\n",
              "people      9\n",
              "dtype: int64"
            ]
          },
          "metadata": {},
          "execution_count": 137
        }
      ]
    },
    {
      "cell_type": "code",
      "source": [
        "df_sorted = df.sort_values(by='text', ascending=False)"
      ],
      "metadata": {
        "id": "MX2dTxbOe5bj"
      },
      "execution_count": 138,
      "outputs": []
    },
    {
      "cell_type": "code",
      "source": [
        " df_sorted.head(10)"
      ],
      "metadata": {
        "colab": {
          "base_uri": "https://localhost:8080/",
          "height": 363
        },
        "id": "Hx9LLXyMe8It",
        "outputId": "c065df30-3511-445b-db66-b1b9f1d375fd"
      },
      "execution_count": 139,
      "outputs": [
        {
          "output_type": "execute_result",
          "data": {
            "text/plain": [
              "                                                  text rating  people\n",
              "44   🏩 Possibly a Masterpiece? 💒DoNotComeToTheCinem...      1     NaN\n",
              "219  what to expectkatiejruncorn25 July 2023Warning...      7     NaN\n",
              "478  what an amazing movieemanoelgustavo20 July 202...      1     NaN\n",
              "206  weakness to strengthJankiSharma24 July 2023Gre...      1     NaN\n",
              "760  very good movie, very entertaininggehete-40949...      1     NaN\n",
              "180  unexpectedly profoundmarcoarbia21 July 2023Tho...      9     NaN\n",
              "313  this is the movie of humanitynsbsnvp20 July 20...      1     NaN\n",
              "238  the love letter to girls we all neededv-15334-...      1     NaN\n",
              "643  surprising and unexpected,NOT a girls movie.as...      8     NaN\n",
              "272  spoiler free!rachelolivia-4409821 July 2023OMG...      1     NaN"
            ],
            "text/html": [
              "\n",
              "  <div id=\"df-1d6abd23-7c8b-4cb5-a420-3df3e3628d30\" class=\"colab-df-container\">\n",
              "    <div>\n",
              "<style scoped>\n",
              "    .dataframe tbody tr th:only-of-type {\n",
              "        vertical-align: middle;\n",
              "    }\n",
              "\n",
              "    .dataframe tbody tr th {\n",
              "        vertical-align: top;\n",
              "    }\n",
              "\n",
              "    .dataframe thead th {\n",
              "        text-align: right;\n",
              "    }\n",
              "</style>\n",
              "<table border=\"1\" class=\"dataframe\">\n",
              "  <thead>\n",
              "    <tr style=\"text-align: right;\">\n",
              "      <th></th>\n",
              "      <th>text</th>\n",
              "      <th>rating</th>\n",
              "      <th>people</th>\n",
              "    </tr>\n",
              "  </thead>\n",
              "  <tbody>\n",
              "    <tr>\n",
              "      <th>44</th>\n",
              "      <td>🏩 Possibly a Masterpiece? 💒DoNotComeToTheCinem...</td>\n",
              "      <td>1</td>\n",
              "      <td>NaN</td>\n",
              "    </tr>\n",
              "    <tr>\n",
              "      <th>219</th>\n",
              "      <td>what to expectkatiejruncorn25 July 2023Warning...</td>\n",
              "      <td>7</td>\n",
              "      <td>NaN</td>\n",
              "    </tr>\n",
              "    <tr>\n",
              "      <th>478</th>\n",
              "      <td>what an amazing movieemanoelgustavo20 July 202...</td>\n",
              "      <td>1</td>\n",
              "      <td>NaN</td>\n",
              "    </tr>\n",
              "    <tr>\n",
              "      <th>206</th>\n",
              "      <td>weakness to strengthJankiSharma24 July 2023Gre...</td>\n",
              "      <td>1</td>\n",
              "      <td>NaN</td>\n",
              "    </tr>\n",
              "    <tr>\n",
              "      <th>760</th>\n",
              "      <td>very good movie, very entertaininggehete-40949...</td>\n",
              "      <td>1</td>\n",
              "      <td>NaN</td>\n",
              "    </tr>\n",
              "    <tr>\n",
              "      <th>180</th>\n",
              "      <td>unexpectedly profoundmarcoarbia21 July 2023Tho...</td>\n",
              "      <td>9</td>\n",
              "      <td>NaN</td>\n",
              "    </tr>\n",
              "    <tr>\n",
              "      <th>313</th>\n",
              "      <td>this is the movie of humanitynsbsnvp20 July 20...</td>\n",
              "      <td>1</td>\n",
              "      <td>NaN</td>\n",
              "    </tr>\n",
              "    <tr>\n",
              "      <th>238</th>\n",
              "      <td>the love letter to girls we all neededv-15334-...</td>\n",
              "      <td>1</td>\n",
              "      <td>NaN</td>\n",
              "    </tr>\n",
              "    <tr>\n",
              "      <th>643</th>\n",
              "      <td>surprising and unexpected,NOT a girls movie.as...</td>\n",
              "      <td>8</td>\n",
              "      <td>NaN</td>\n",
              "    </tr>\n",
              "    <tr>\n",
              "      <th>272</th>\n",
              "      <td>spoiler free!rachelolivia-4409821 July 2023OMG...</td>\n",
              "      <td>1</td>\n",
              "      <td>NaN</td>\n",
              "    </tr>\n",
              "  </tbody>\n",
              "</table>\n",
              "</div>\n",
              "    <div class=\"colab-df-buttons\">\n",
              "\n",
              "  <div class=\"colab-df-container\">\n",
              "    <button class=\"colab-df-convert\" onclick=\"convertToInteractive('df-1d6abd23-7c8b-4cb5-a420-3df3e3628d30')\"\n",
              "            title=\"Convert this dataframe to an interactive table.\"\n",
              "            style=\"display:none;\">\n",
              "\n",
              "  <svg xmlns=\"http://www.w3.org/2000/svg\" height=\"24px\" viewBox=\"0 -960 960 960\">\n",
              "    <path d=\"M120-120v-720h720v720H120Zm60-500h600v-160H180v160Zm220 220h160v-160H400v160Zm0 220h160v-160H400v160ZM180-400h160v-160H180v160Zm440 0h160v-160H620v160ZM180-180h160v-160H180v160Zm440 0h160v-160H620v160Z\"/>\n",
              "  </svg>\n",
              "    </button>\n",
              "\n",
              "  <style>\n",
              "    .colab-df-container {\n",
              "      display:flex;\n",
              "      gap: 12px;\n",
              "    }\n",
              "\n",
              "    .colab-df-convert {\n",
              "      background-color: #E8F0FE;\n",
              "      border: none;\n",
              "      border-radius: 50%;\n",
              "      cursor: pointer;\n",
              "      display: none;\n",
              "      fill: #1967D2;\n",
              "      height: 32px;\n",
              "      padding: 0 0 0 0;\n",
              "      width: 32px;\n",
              "    }\n",
              "\n",
              "    .colab-df-convert:hover {\n",
              "      background-color: #E2EBFA;\n",
              "      box-shadow: 0px 1px 2px rgba(60, 64, 67, 0.3), 0px 1px 3px 1px rgba(60, 64, 67, 0.15);\n",
              "      fill: #174EA6;\n",
              "    }\n",
              "\n",
              "    .colab-df-buttons div {\n",
              "      margin-bottom: 4px;\n",
              "    }\n",
              "\n",
              "    [theme=dark] .colab-df-convert {\n",
              "      background-color: #3B4455;\n",
              "      fill: #D2E3FC;\n",
              "    }\n",
              "\n",
              "    [theme=dark] .colab-df-convert:hover {\n",
              "      background-color: #434B5C;\n",
              "      box-shadow: 0px 1px 3px 1px rgba(0, 0, 0, 0.15);\n",
              "      filter: drop-shadow(0px 1px 2px rgba(0, 0, 0, 0.3));\n",
              "      fill: #FFFFFF;\n",
              "    }\n",
              "  </style>\n",
              "\n",
              "    <script>\n",
              "      const buttonEl =\n",
              "        document.querySelector('#df-1d6abd23-7c8b-4cb5-a420-3df3e3628d30 button.colab-df-convert');\n",
              "      buttonEl.style.display =\n",
              "        google.colab.kernel.accessAllowed ? 'block' : 'none';\n",
              "\n",
              "      async function convertToInteractive(key) {\n",
              "        const element = document.querySelector('#df-1d6abd23-7c8b-4cb5-a420-3df3e3628d30');\n",
              "        const dataTable =\n",
              "          await google.colab.kernel.invokeFunction('convertToInteractive',\n",
              "                                                    [key], {});\n",
              "        if (!dataTable) return;\n",
              "\n",
              "        const docLinkHtml = 'Like what you see? Visit the ' +\n",
              "          '<a target=\"_blank\" href=https://colab.research.google.com/notebooks/data_table.ipynb>data table notebook</a>'\n",
              "          + ' to learn more about interactive tables.';\n",
              "        element.innerHTML = '';\n",
              "        dataTable['output_type'] = 'display_data';\n",
              "        await google.colab.output.renderOutput(dataTable, element);\n",
              "        const docLink = document.createElement('div');\n",
              "        docLink.innerHTML = docLinkHtml;\n",
              "        element.appendChild(docLink);\n",
              "      }\n",
              "    </script>\n",
              "  </div>\n",
              "\n",
              "\n",
              "<div id=\"df-ce91a3eb-65c9-4707-afa2-5d8bbaa6f773\">\n",
              "  <button class=\"colab-df-quickchart\" onclick=\"quickchart('df-ce91a3eb-65c9-4707-afa2-5d8bbaa6f773')\"\n",
              "            title=\"Suggest charts\"\n",
              "            style=\"display:none;\">\n",
              "\n",
              "<svg xmlns=\"http://www.w3.org/2000/svg\" height=\"24px\"viewBox=\"0 0 24 24\"\n",
              "     width=\"24px\">\n",
              "    <g>\n",
              "        <path d=\"M19 3H5c-1.1 0-2 .9-2 2v14c0 1.1.9 2 2 2h14c1.1 0 2-.9 2-2V5c0-1.1-.9-2-2-2zM9 17H7v-7h2v7zm4 0h-2V7h2v10zm4 0h-2v-4h2v4z\"/>\n",
              "    </g>\n",
              "</svg>\n",
              "  </button>\n",
              "\n",
              "<style>\n",
              "  .colab-df-quickchart {\n",
              "      --bg-color: #E8F0FE;\n",
              "      --fill-color: #1967D2;\n",
              "      --hover-bg-color: #E2EBFA;\n",
              "      --hover-fill-color: #174EA6;\n",
              "      --disabled-fill-color: #AAA;\n",
              "      --disabled-bg-color: #DDD;\n",
              "  }\n",
              "\n",
              "  [theme=dark] .colab-df-quickchart {\n",
              "      --bg-color: #3B4455;\n",
              "      --fill-color: #D2E3FC;\n",
              "      --hover-bg-color: #434B5C;\n",
              "      --hover-fill-color: #FFFFFF;\n",
              "      --disabled-bg-color: #3B4455;\n",
              "      --disabled-fill-color: #666;\n",
              "  }\n",
              "\n",
              "  .colab-df-quickchart {\n",
              "    background-color: var(--bg-color);\n",
              "    border: none;\n",
              "    border-radius: 50%;\n",
              "    cursor: pointer;\n",
              "    display: none;\n",
              "    fill: var(--fill-color);\n",
              "    height: 32px;\n",
              "    padding: 0;\n",
              "    width: 32px;\n",
              "  }\n",
              "\n",
              "  .colab-df-quickchart:hover {\n",
              "    background-color: var(--hover-bg-color);\n",
              "    box-shadow: 0 1px 2px rgba(60, 64, 67, 0.3), 0 1px 3px 1px rgba(60, 64, 67, 0.15);\n",
              "    fill: var(--button-hover-fill-color);\n",
              "  }\n",
              "\n",
              "  .colab-df-quickchart-complete:disabled,\n",
              "  .colab-df-quickchart-complete:disabled:hover {\n",
              "    background-color: var(--disabled-bg-color);\n",
              "    fill: var(--disabled-fill-color);\n",
              "    box-shadow: none;\n",
              "  }\n",
              "\n",
              "  .colab-df-spinner {\n",
              "    border: 2px solid var(--fill-color);\n",
              "    border-color: transparent;\n",
              "    border-bottom-color: var(--fill-color);\n",
              "    animation:\n",
              "      spin 1s steps(1) infinite;\n",
              "  }\n",
              "\n",
              "  @keyframes spin {\n",
              "    0% {\n",
              "      border-color: transparent;\n",
              "      border-bottom-color: var(--fill-color);\n",
              "      border-left-color: var(--fill-color);\n",
              "    }\n",
              "    20% {\n",
              "      border-color: transparent;\n",
              "      border-left-color: var(--fill-color);\n",
              "      border-top-color: var(--fill-color);\n",
              "    }\n",
              "    30% {\n",
              "      border-color: transparent;\n",
              "      border-left-color: var(--fill-color);\n",
              "      border-top-color: var(--fill-color);\n",
              "      border-right-color: var(--fill-color);\n",
              "    }\n",
              "    40% {\n",
              "      border-color: transparent;\n",
              "      border-right-color: var(--fill-color);\n",
              "      border-top-color: var(--fill-color);\n",
              "    }\n",
              "    60% {\n",
              "      border-color: transparent;\n",
              "      border-right-color: var(--fill-color);\n",
              "    }\n",
              "    80% {\n",
              "      border-color: transparent;\n",
              "      border-right-color: var(--fill-color);\n",
              "      border-bottom-color: var(--fill-color);\n",
              "    }\n",
              "    90% {\n",
              "      border-color: transparent;\n",
              "      border-bottom-color: var(--fill-color);\n",
              "    }\n",
              "  }\n",
              "</style>\n",
              "\n",
              "  <script>\n",
              "    async function quickchart(key) {\n",
              "      const quickchartButtonEl =\n",
              "        document.querySelector('#' + key + ' button');\n",
              "      quickchartButtonEl.disabled = true;  // To prevent multiple clicks.\n",
              "      quickchartButtonEl.classList.add('colab-df-spinner');\n",
              "      try {\n",
              "        const charts = await google.colab.kernel.invokeFunction(\n",
              "            'suggestCharts', [key], {});\n",
              "      } catch (error) {\n",
              "        console.error('Error during call to suggestCharts:', error);\n",
              "      }\n",
              "      quickchartButtonEl.classList.remove('colab-df-spinner');\n",
              "      quickchartButtonEl.classList.add('colab-df-quickchart-complete');\n",
              "    }\n",
              "    (() => {\n",
              "      let quickchartButtonEl =\n",
              "        document.querySelector('#df-ce91a3eb-65c9-4707-afa2-5d8bbaa6f773 button');\n",
              "      quickchartButtonEl.style.display =\n",
              "        google.colab.kernel.accessAllowed ? 'block' : 'none';\n",
              "    })();\n",
              "  </script>\n",
              "</div>\n",
              "\n",
              "    </div>\n",
              "  </div>\n"
            ],
            "application/vnd.google.colaboratory.intrinsic+json": {
              "type": "dataframe",
              "variable_name": "df_sorted",
              "summary": "{\n  \"name\": \"df_sorted\",\n  \"rows\": 797,\n  \"fields\": [\n    {\n      \"column\": \"text\",\n      \"properties\": {\n        \"dtype\": \"string\",\n        \"num_unique_values\": 797,\n        \"samples\": [\n          \"An comment about feminism, men & gender equalityhanschsolo23 July 2023An film that tries to balance out humor and leaving social criticism in the minds of the viewers. Barbie falls flat with its criticism not only because it feels flat and out of place, but most importantly unnatural and unimportant.Why does a film about a female toy that kids play with need to comment on feminism. The use of feminism is to give a woman the right to choose for themselves and to be what they want, for example no woman nowadays should be a housewife if they do not want it to be. There are still current problems such as loans, the pay gap shouldn't be a thing, that is where gender equality is important, but Barbie gets it wrong and simply criticizes the mental state of being a woman and having it hard in its own life and still try to cover it up and being controlled by men. While I know that this is a problem in some cultures and countries, it is not the ones that people watch this film in. And Barbie definitely doesn't means it in that way.Ken plays the stereotypical men, he wants to rule and fulfill himself in his life, and he searches for meaning. His character development ends with him needing to let go of Barbie to truly find himself, and Barbie says that he wasn't created only to be Barbie's boyfriend, but truly, he was. No one bought a ken toy without a Barbie toy, so why can't we let the toys that girls play with, be toys they play with?Barbie sees the Real world as an issue because she thinks it only gets controlled by men, but she doesn't see that barbie land is a place which has a woman dictatorship.I was prepared for an fun time with laughs, but was rather left devastated by this film, because it tries to criticize how we treat feminism and gender equality, but then it gets it wrong, and finds problems where they is none. It rather comes across as the message, woman are good, men are bad. This is not the type of film that would inspire a little girl to be something special, this is the type of film she doesn't even understand or care for.7 out of 12 found this helpful. Was this review helpful? Sign in to vote.Permalink\",\n          \"Barbie discovers the not so perfect world.Ruben1720 July 2023It's weird yet fun movie! It keeps getting better by the minutes, had a good portion of fun but also a few emotional moments.It's not made for everyone but try and keep a clear mind while watching it!The casting choice were sublime and each Barbie, Ken and even Alan nailed there performances.The few cameos were also pretty fun, and with a lovely touch at moments.Some scenes were a bit dragged out but because of the characters it kinda felt like i was okey with it.It has it ups and downs but it was mostly entertaining and i think that was it's main goal and they succeeded in that.If you are a Barbie fan you'll definitely have a blast!9 out of 65 found this helpful. Was this review helpful? Sign in to vote.Permalink\",\n          \"What's the point of this movie?gregdragon-4926923 July 2023Warning: Spoilers27 out of 67 found this helpful. Was this review helpful? Sign in to vote.Permalink\"\n        ],\n        \"semantic_type\": \"\",\n        \"description\": \"\"\n      }\n    },\n    {\n      \"column\": \"rating\",\n      \"properties\": {\n        \"dtype\": \"category\",\n        \"num_unique_values\": 16,\n        \"samples\": [\n          \"1\",\n          \"7\",\n          \"4\"\n        ],\n        \"semantic_type\": \"\",\n        \"description\": \"\"\n      }\n    },\n    {\n      \"column\": \"people\",\n      \"properties\": {\n        \"dtype\": \"number\",\n        \"std\": 2.6568446566202857,\n        \"min\": 1.0,\n        \"max\": 9.0,\n        \"num_unique_values\": 9,\n        \"samples\": [\n          8.0,\n          1.0,\n          6.0\n        ],\n        \"semantic_type\": \"\",\n        \"description\": \"\"\n      }\n    }\n  ]\n}"
            }
          },
          "metadata": {},
          "execution_count": 139
        }
      ]
    },
    {
      "cell_type": "code",
      "source": [
        "print(df.columns)\n"
      ],
      "metadata": {
        "colab": {
          "base_uri": "https://localhost:8080/"
        },
        "id": "1smVJHBblCHr",
        "outputId": "338a041a-3a93-4fbe-a3e4-4186c08e0bfa"
      },
      "execution_count": 140,
      "outputs": [
        {
          "output_type": "stream",
          "name": "stdout",
          "text": [
            "Index(['text', 'rating', 'people'], dtype='object')\n"
          ]
        }
      ]
    },
    {
      "cell_type": "code",
      "source": [
        ""
      ],
      "metadata": {
        "id": "fuSbl91me-6G"
      },
      "execution_count": 140,
      "outputs": []
    },
    {
      "cell_type": "code",
      "source": [
        " plt.figure(figsize=[15,7],)\n",
        " plt.xlabel('rating')\n",
        " plt.ylabel('text')\n",
        " plt.title('barbie movie haters')\n",
        " plt.show()"
      ],
      "metadata": {
        "colab": {
          "base_uri": "https://localhost:8080/",
          "height": 534
        },
        "id": "LXlSuo5yfBhp",
        "outputId": "62fce435-204d-4b88-bd7c-0a3af7d5fc02"
      },
      "execution_count": 141,
      "outputs": [
        {
          "output_type": "display_data",
          "data": {
            "text/plain": [
              "<Figure size 1500x700 with 1 Axes>"
            ],
            "image/png": "[encoded data removed]"
          },
          "metadata": {}
        }
      ]
    },
    {
      "cell_type": "code",
      "source": [
        " plt.figure(figsize=[15,7],)\n",
        " plt.xlabel('rating')\n",
        " plt.ylabel('text')\n",
        " plt.title('bad review')\n",
        " plt.show()"
      ],
      "metadata": {
        "colab": {
          "base_uri": "https://localhost:8080/",
          "height": 534
        },
        "id": "KBxqBe4xfEtb",
        "outputId": "b3bb7b15-7fe6-4ec6-b6d8-63bedfb9eb71"
      },
      "execution_count": 165,
      "outputs": [
        {
          "output_type": "display_data",
          "data": {
            "text/plain": [
              "<Figure size 1500x700 with 1 Axes>"
            ],
            "image/png": "[encoded data removed]"
          },
          "metadata": {}
        }
      ]
    },
    {
      "cell_type": "code",
      "source": [
        ""
      ],
      "metadata": {
        "id": "nphAEKkyfKmH"
      },
      "execution_count": 142,
      "outputs": []
    },
    {
      "cell_type": "code",
      "source": [
        " import re\n",
        " import string\n",
        " from tqdm.notebook import tqdm\n",
        " from datetime import datetime\n",
        " import dateutil.parser"
      ],
      "metadata": {
        "id": "x6eXs2l6fRT-"
      },
      "execution_count": 143,
      "outputs": []
    },
    {
      "cell_type": "code",
      "source": [
        "!pip install -q pyspellchecker\n",
        "!pip install -q spell-checker"
      ],
      "metadata": {
        "colab": {
          "base_uri": "https://localhost:8080/"
        },
        "id": "rsgGc6okfULy",
        "outputId": "39161300-b7cf-40f5-dad4-c8848d5a7919"
      },
      "execution_count": 144,
      "outputs": [
        {
          "output_type": "stream",
          "name": "stdout",
          "text": [
            "\u001b[31mERROR: Cannot install spell-checker==1.1.0, spell-checker==1.2.0, spell-checker==1.2.5, spell-checker==1.3.0, spell-checker==1.4.0, spell-checker==1.5.0, spell-checker==1.6.0 and spell-checker==1.6.1 because these package versions have conflicting dependencies.\u001b[0m\u001b[31m\n",
            "\u001b[0m\u001b[31mERROR: ResolutionImpossible: for help visit https://pip.pypa.io/en/latest/topics/dependency-resolution/#dealing-with-dependency-conflicts\u001b[0m\u001b[31m\n",
            "\u001b[0m"
          ]
        }
      ]
    },
    {
      "cell_type": "code",
      "source": [
        " import nltk #natural language tool kit\n",
        " from spellchecker import SpellChecker\n",
        " from nltk.sentiment.vader import SentimentIntensityAnalyzer as SIA"
      ],
      "metadata": {
        "id": "BiiiVtcSfW_c"
      },
      "execution_count": 145,
      "outputs": []
    },
    {
      "cell_type": "code",
      "source": [
        " from wordcloud import WordCloud, ImageColorGenerator\n",
        " from nltk.corpus import stopwords\n",
        " import random"
      ],
      "metadata": {
        "id": "z9Y8aNYxfZsY"
      },
      "execution_count": 146,
      "outputs": []
    },
    {
      "cell_type": "code",
      "source": [
        "nltk.download('vader_lexicon')\n",
        "nltk.download('stopwords')"
      ],
      "metadata": {
        "colab": {
          "base_uri": "https://localhost:8080/"
        },
        "id": "OxrSj8RNfby2",
        "outputId": "3528b524-93d8-4b39-e1f4-084ed1d475ba"
      },
      "execution_count": 147,
      "outputs": [
        {
          "output_type": "stream",
          "name": "stderr",
          "text": [
            "[nltk_data] Downloading package vader_lexicon to /root/nltk_data...\n",
            "[nltk_data]   Package vader_lexicon is already up-to-date!\n",
            "[nltk_data] Downloading package stopwords to /root/nltk_data...\n",
            "[nltk_data]   Package stopwords is already up-to-date!\n"
          ]
        },
        {
          "output_type": "execute_result",
          "data": {
            "text/plain": [
              "True"
            ]
          },
          "metadata": {},
          "execution_count": 147
        }
      ]
    },
    {
      "cell_type": "code",
      "source": [
        " languages = stopwords.fileids()\n",
        " # Print the number of supported languages\n",
        " print(\"Number of supported languages:\", len(languages))\n",
        " # Print the list of supported languages\n",
        " print(\"Supported languages:\", languages)"
      ],
      "metadata": {
        "colab": {
          "base_uri": "https://localhost:8080/"
        },
        "id": "1JwnY-aPffG7",
        "outputId": "e3e5f384-e845-45b1-e46b-ce16bb76d3df"
      },
      "execution_count": 148,
      "outputs": [
        {
          "output_type": "stream",
          "name": "stdout",
          "text": [
            "Number of supported languages: 29\n",
            "Supported languages: ['arabic', 'azerbaijani', 'basque', 'bengali', 'catalan', 'chinese', 'danish', 'dutch', 'english', 'finnish', 'french', 'german', 'greek', 'hebrew', 'hinglish', 'hungarian', 'indonesian', 'italian', 'kazakh', 'nepali', 'norwegian', 'portuguese', 'romanian', 'russian', 'slovene', 'spanish', 'swedish', 'tajik', 'turkish']\n"
          ]
        }
      ]
    },
    {
      "cell_type": "code",
      "source": [
        "from nltk.tokenize import TweetTokenizer"
      ],
      "metadata": {
        "id": "g2DayX3DfhUs"
      },
      "execution_count": 149,
      "outputs": []
    },
    {
      "cell_type": "code",
      "source": [
        "english_stopwords = stopwords.words('english')\n",
        "hinglish_stopwords = stopwords.words('hinglish')"
      ],
      "metadata": {
        "id": "nmwGTip5fncq"
      },
      "execution_count": 150,
      "outputs": []
    },
    {
      "cell_type": "code",
      "source": [
        "def clean_tweet(tweet):\n",
        "    tweet = re.sub(r\"http\\S+|www\\S+|@\\w+|#\\w+\", \"\", tweet)\n",
        "    tweet = re.sub(r\"[^\\w\\s]\", \"\", tweet)\n",
        "    # Tokenize the tweet\n",
        "    tokenizer = TweetTokenizer(preserve_case=False, reduce_len=True, strip_handles=True)\n",
        "    tokens = tokenizer.tokenize(tweet)\n",
        "    # Remove stopwords for English and Hinglish\n",
        "    tokens = [token for token in tokens if token not in english_stopwords and token not in hinglish_stopwords]\n",
        "    # Remove punctuation and convert to lowercase\n",
        "    tokens = [token.translate(str.maketrans('', '', string.punctuation)) for token in tokens]\n",
        "    tokens = [token.lower() for token in tokens]\n",
        "    # Join tokens back into a string\n",
        "    cleaned_tweet = ' '.join(tokens)\n",
        "    return cleaned_tweet"
      ],
      "metadata": {
        "id": "KYKPSJL_fpzo"
      },
      "execution_count": 151,
      "outputs": []
    },
    {
      "cell_type": "code",
      "source": [
        " df['Cleaned_Tweets'] = df['text'].apply(clean_tweet)\n",
        " print(df)"
      ],
      "metadata": {
        "colab": {
          "base_uri": "https://localhost:8080/"
        },
        "id": "lrvqtiAdfs_b",
        "outputId": "385dc540-aba7-4570-dfcb-4708bac3dbab"
      },
      "execution_count": 152,
      "outputs": [
        {
          "output_type": "stream",
          "name": "stdout",
          "text": [
            "                                                  text rating  people  \\\n",
            "0    Beautiful film, but so preachyLoveofLegacy21 J...      6     1.0   \n",
            "1    Clever and fun beginning turns into another le...      6     2.0   \n",
            "2    It was depressingcoxaneesa24 July 2023Warning:...      8     3.0   \n",
            "3    A Technicolor Dreamheatherhilgers24 July 2023W...      9     4.0   \n",
            "4     reasons FOR seeing it and 1 reason AGAINST.im...      7     6.0   \n",
            "..                                                 ...    ...     ...   \n",
            "792  Barbie-not goodthongman22 July 2023The only re...      2     NaN   \n",
            "793  Feminism but the rest?iyaseminkose23 July 2023...      5     NaN   \n",
            "794  Great sets, great execution but horrible story...      3     NaN   \n",
            "795  Just meh.apriljosey-2903427 July 2023Warning: ...      2     NaN   \n",
            "796  Not for little kids and wastes your time.ben-3...      1     NaN   \n",
            "\n",
            "                                        Cleaned_Tweets  \n",
            "0    beautiful film preachyloveoflegacy 21 july 202...  \n",
            "1    clever fun beginning turns lecture patriarchyb...  \n",
            "2    depressingcoxaneesa 24 july 2023warning spoile...  \n",
            "3    technicolor dreamheatherhilgers 24 july 2023wo...  \n",
            "4    reasons 1 reason againstimseeg 22 july 2023war...  \n",
            "..                                                 ...  \n",
            "792  barbienot goodthongman 22 july 2023the reason ...  \n",
            "793  feminism restiyaseminkose 23 july 2023im barbi...  \n",
            "794  great sets great execution horrible storylined...  \n",
            "795  mehapriljosey 2903427 july 2023warning spoiler...  \n",
            "796  kids wastes timeben 3940327 july 2023too sexua...  \n",
            "\n",
            "[797 rows x 4 columns]\n"
          ]
        }
      ]
    },
    {
      "cell_type": "code",
      "source": [
        "def clean_text(text):\n",
        "    text = text.lower()\n",
        "    return text.strip()"
      ],
      "metadata": {
        "id": "2UrqOxALfwGJ"
      },
      "execution_count": 153,
      "outputs": []
    },
    {
      "cell_type": "code",
      "source": [
        " def tokenization(text):\n",
        "    tokens = re.split('W+',text)\n",
        "    return tokens"
      ],
      "metadata": {
        "id": "zxLVbNtgf4RL"
      },
      "execution_count": 154,
      "outputs": []
    },
    {
      "cell_type": "code",
      "source": [
        " from nltk.stem import WordNetLemmatizer\n",
        " wordnet_lemmatizer = WordNetLemmatizer()"
      ],
      "metadata": {
        "id": "h5yvlfUmf9BH"
      },
      "execution_count": 155,
      "outputs": []
    },
    {
      "cell_type": "code",
      "source": [
        "nltk.download('wordnet')"
      ],
      "metadata": {
        "colab": {
          "base_uri": "https://localhost:8080/"
        },
        "id": "ncqrCyagf-qT",
        "outputId": "d9325ca0-6613-4eff-c51d-0358972afb96"
      },
      "execution_count": 156,
      "outputs": [
        {
          "output_type": "stream",
          "name": "stderr",
          "text": [
            "[nltk_data] Downloading package wordnet to /root/nltk_data...\n",
            "[nltk_data]   Package wordnet is already up-to-date!\n"
          ]
        },
        {
          "output_type": "execute_result",
          "data": {
            "text/plain": [
              "True"
            ]
          },
          "metadata": {},
          "execution_count": 156
        }
      ]
    },
    {
      "cell_type": "code",
      "source": [
        " nltk.download('omw-1.4')"
      ],
      "metadata": {
        "colab": {
          "base_uri": "https://localhost:8080/"
        },
        "id": "lwFHbegCgBxX",
        "outputId": "495be4f5-fa2b-4cd0-d94c-71bbef5947bf"
      },
      "execution_count": 157,
      "outputs": [
        {
          "output_type": "stream",
          "name": "stderr",
          "text": [
            "[nltk_data] Downloading package omw-1.4 to /root/nltk_data...\n",
            "[nltk_data]   Package omw-1.4 is already up-to-date!\n"
          ]
        },
        {
          "output_type": "execute_result",
          "data": {
            "text/plain": [
              "True"
            ]
          },
          "metadata": {},
          "execution_count": 157
        }
      ]
    },
    {
      "cell_type": "code",
      "source": [
        "def lemmatizer(text):\n",
        "    lemm_text = \"\".join([wordnet_lemmatizer.lemmatize(word) for word in text])\n",
        "    return lemm_text"
      ],
      "metadata": {
        "id": "uj17nb3MgDvM"
      },
      "execution_count": 158,
      "outputs": []
    },
    {
      "cell_type": "code",
      "source": [
        "df.Cleaned_Tweets = df.Cleaned_Tweets.apply(lambda x: lemmatizer(x))"
      ],
      "metadata": {
        "id": "O0QVKt3TgH8v"
      },
      "execution_count": 159,
      "outputs": []
    },
    {
      "cell_type": "code",
      "source": [
        " def remove_digits(text):\n",
        "    clean_text = re.sub(r\"\\b[0-9]+\\b\\s*\", \"\", text)\n",
        "    return(text)"
      ],
      "metadata": {
        "id": "ErZcfUvfgKla"
      },
      "execution_count": 160,
      "outputs": []
    },
    {
      "cell_type": "code",
      "source": [
        " df.Cleaned_Tweets = df.Cleaned_Tweets.apply(lambda x: remove_digits(x))"
      ],
      "metadata": {
        "id": "Dn3E1Bw9gNyC"
      },
      "execution_count": 164,
      "outputs": []
    },
    {
      "cell_type": "code",
      "source": [
        " !pip install -q langdetect"
      ],
      "metadata": {
        "id": "7uv9wL-OgR7i"
      },
      "execution_count": 162,
      "outputs": []
    },
    {
      "cell_type": "code",
      "source": [
        " from langdetect import detect\n",
        " def detect_language(text):\n",
        "    try:\n",
        "        lang = detect(text)\n",
        "        return lang\n",
        "    except:\n",
        "        return None\n",
        " df['Language'] = df['Cleaned_Tweets'].apply(detect_language)\n",
        " print(df)"
      ],
      "metadata": {
        "colab": {
          "base_uri": "https://localhost:8080/"
        },
        "id": "ZVWmblZggU_o",
        "outputId": "60112a79-e84d-4b84-bae7-9704522d170e"
      },
      "execution_count": 163,
      "outputs": [
        {
          "output_type": "stream",
          "name": "stdout",
          "text": [
            "                                                  text rating  people  \\\n",
            "0    Beautiful film, but so preachyLoveofLegacy21 J...      6     1.0   \n",
            "1    Clever and fun beginning turns into another le...      6     2.0   \n",
            "2    It was depressingcoxaneesa24 July 2023Warning:...      8     3.0   \n",
            "3    A Technicolor Dreamheatherhilgers24 July 2023W...      9     4.0   \n",
            "4     reasons FOR seeing it and 1 reason AGAINST.im...      7     6.0   \n",
            "..                                                 ...    ...     ...   \n",
            "792  Barbie-not goodthongman22 July 2023The only re...      2     NaN   \n",
            "793  Feminism but the rest?iyaseminkose23 July 2023...      5     NaN   \n",
            "794  Great sets, great execution but horrible story...      3     NaN   \n",
            "795  Just meh.apriljosey-2903427 July 2023Warning: ...      2     NaN   \n",
            "796  Not for little kids and wastes your time.ben-3...      1     NaN   \n",
            "\n",
            "                                        Cleaned_Tweets Language  \n",
            "0    beautiful film preachyloveoflegacy 21 july 202...       en  \n",
            "1    clever fun beginning turns lecture patriarchyb...       en  \n",
            "2    depressingcoxaneesa 24 july 2023warning spoile...       en  \n",
            "3    technicolor dreamheatherhilgers 24 july 2023wo...       en  \n",
            "4    reasons 1 reason againstimseeg 22 july 2023war...       en  \n",
            "..                                                 ...      ...  \n",
            "792  barbienot goodthongman 22 july 2023the reason ...       en  \n",
            "793  feminism restiyaseminkose 23 july 2023im barbi...       en  \n",
            "794  great sets great execution horrible storylined...       en  \n",
            "795  mehapriljosey 2903427 july 2023warning spoiler...       en  \n",
            "796  kids wastes timeben 3940327 july 2023too sexua...       en  \n",
            "\n",
            "[797 rows x 5 columns]\n"
          ]
        }
      ]
    }
  ]
}
